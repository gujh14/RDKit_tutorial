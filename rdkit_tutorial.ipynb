{
 "cells": [
  {
   "cell_type": "markdown",
   "metadata": {},
   "source": [
    "## RDKit"
   ]
  },
  {
   "cell_type": "markdown",
   "metadata": {},
   "source": [
    "Reference\n",
    "- https://www.rdkit.org/docs/GettingStartedInPython.html\n",
    "- https://chemicbook.com/2021/03/01/how-to-show-atom-numbers-in-rdkit-molecule.html\n",
    "- https://greglandrum.github.io/rdkit-blog/"
   ]
  },
  {
   "cell_type": "markdown",
   "metadata": {},
   "source": [
    "To-do\n",
    "- Warning 끄는 법"
   ]
  },
  {
   "cell_type": "code",
   "execution_count": 61,
   "metadata": {},
   "outputs": [],
   "source": [
    "# rdkit의 기본 module 두 가지\n",
    "from rdkit import Chem # Chem은 operation이 복잡하지 않은 module들 위주로 빠르게 접근\n",
    "from rdkit.Chem import AllChem # Chem.AllChem은 비교적 복잡한 module들 위주.\n",
    "# 이 둘을 구분해놓은 이유는 import 시에 굳이 불필요한 module 까지 import 하는 경우를 줄이기 위함.\n",
    "import numpy as np"
   ]
  },
  {
   "cell_type": "markdown",
   "metadata": {},
   "source": [
    "### Reading molecules"
   ]
  },
  {
   "cell_type": "markdown",
   "metadata": {},
   "source": [
    "SMILES sequence로부터 mol object 만들기"
   ]
  },
  {
   "cell_type": "code",
   "execution_count": 2,
   "metadata": {},
   "outputs": [
    {
     "name": "stdout",
     "output_type": "stream",
     "text": [
      "<class 'rdkit.Chem.rdchem.Mol'>\n"
     ]
    }
   ],
   "source": [
    "m = Chem.MolFromSmiles('Cc1ccccc1')\n",
    "print(type(m))"
   ]
  },
  {
   "cell_type": "code",
   "execution_count": 3,
   "metadata": {},
   "outputs": [
    {
     "data": {
      "image/png": "[encoded data removed]",
      "text/plain": [
       "<rdkit.Chem.rdchem.Mol at 0x7f4d36786d60>"
      ]
     },
     "execution_count": 3,
     "metadata": {},
     "output_type": "execute_result"
    }
   ],
   "source": [
    "# Mol을 2D graph 형태로 notebook cell에서 출력\n",
    "m"
   ]
  },
  {
   "cell_type": "markdown",
   "metadata": {},
   "source": [
    "Minor tips\n",
    "- atom index, bond index를 annotation"
   ]
  },
  {
   "cell_type": "code",
   "execution_count": 4,
   "metadata": {},
   "outputs": [
    {
     "data": {
      "image/png": "[encoded data removed]",
      "text/plain": [
       "<rdkit.Chem.rdchem.Mol at 0x7f4d36786d60>"
      ]
     },
     "execution_count": 4,
     "metadata": {},
     "output_type": "execute_result"
    }
   ],
   "source": [
    "# Atom index와 Bond index를 annotation 하는 함수. 필요에 따라 복사해서 사용 가능.\n",
    "def show_atom_idx(mol):\n",
    "    '''\n",
    "    Atom index를 atom 위에 출력해주는 함수. (inplace)\n",
    "    '''\n",
    "    for atom in mol.GetAtoms():\n",
    "        atom.SetProp('atomNote', str(atom.GetIdx()))\n",
    "\n",
    "def show_bond_idx(mol):\n",
    "    '''\n",
    "    Bond index를 bond 위에 출력해주는 함수. (inplace)\n",
    "    Atom과 구분을 위해 b0, b1, ... 형태로 출력됨.\n",
    "    '''\n",
    "    for bond in mol.GetBonds():\n",
    "        bond.SetProp('bondNote', 'b'+str(bond.GetIdx()))\n",
    "        \n",
    "show_atom_idx(m)\n",
    "m"
   ]
  },
  {
   "cell_type": "code",
   "execution_count": 5,
   "metadata": {},
   "outputs": [
    {
     "name": "stdout",
     "output_type": "stream",
     "text": [
      "True\n",
      "True\n"
     ]
    },
    {
     "name": "stderr",
     "output_type": "stream",
     "text": [
      "[17:09:57] Explicit valence for atom # 1 O, 3, is greater than permitted\n",
      "[17:09:57] Can't kekulize mol.  Unkekulized atoms: 0 1 2\n"
     ]
    }
   ],
   "source": [
    "# Mol object Load 실패 케이스\n",
    "m1 = Chem.MolFromSmiles('CO(C)C') # Explicit valence for atom # 1 O, 3, is greater than permitted\n",
    "m2 = Chem.MolFromSmiles('c1cc1') # Can't kekulize mol\n",
    "print(m1 == None)\n",
    "print(m2 == None)"
   ]
  },
  {
   "cell_type": "markdown",
   "metadata": {},
   "source": [
    "SDF file 로부터 여러 molecule을 load"
   ]
  },
  {
   "cell_type": "code",
   "execution_count": 6,
   "metadata": {},
   "outputs": [
    {
     "name": "stderr",
     "output_type": "stream",
     "text": [
      "[17:09:59] Explicit valence for atom # 13 Cl, 5, is greater than permitted\n",
      "[17:09:59] ERROR: Could not sanitize molecule ending on line 129414\n",
      "[17:09:59] ERROR: Explicit valence for atom # 13 Cl, 5, is greater than permitted\n",
      "[17:09:59] Explicit valence for atom # 19 O, 3, is greater than permitted\n",
      "[17:09:59] ERROR: Could not sanitize molecule ending on line 174651\n",
      "[17:09:59] ERROR: Explicit valence for atom # 19 O, 3, is greater than permitted\n",
      "[17:09:59] Explicit valence for atom # 1 N, 4, is greater than permitted\n",
      "[17:09:59] ERROR: Could not sanitize molecule ending on line 225596\n",
      "[17:09:59] ERROR: Explicit valence for atom # 1 N, 4, is greater than permitted\n",
      "[17:09:59] Explicit valence for atom # 1 N, 4, is greater than permitted\n",
      "[17:09:59] ERROR: Could not sanitize molecule ending on line 247936\n",
      "[17:09:59] ERROR: Explicit valence for atom # 1 N, 4, is greater than permitted\n",
      "[17:09:59] Explicit valence for atom # 12 N, 4, is greater than permitted\n",
      "[17:09:59] ERROR: Could not sanitize molecule ending on line 262970\n",
      "[17:09:59] ERROR: Explicit valence for atom # 12 N, 4, is greater than permitted\n",
      "[17:09:59] Explicit valence for atom # 20 N, 4, is greater than permitted\n",
      "[17:09:59] ERROR: Could not sanitize molecule ending on line 271555\n",
      "[17:09:59] ERROR: Explicit valence for atom # 20 N, 4, is greater than permitted\n",
      "[17:09:59] Explicit valence for atom # 0 Be, 3, is greater than permitted\n",
      "[17:09:59] ERROR: Could not sanitize molecule ending on line 475607\n",
      "[17:09:59] ERROR: Explicit valence for atom # 0 Be, 3, is greater than permitted\n",
      "[17:10:00] Explicit valence for atom # 28 N, 4, is greater than permitted\n",
      "[17:10:00] ERROR: Could not sanitize molecule ending on line 543190\n",
      "[17:10:00] ERROR: Explicit valence for atom # 28 N, 4, is greater than permitted\n",
      "[17:10:00] Explicit valence for atom # 1 Cl, 4, is greater than permitted\n",
      "[17:10:00] ERROR: Could not sanitize molecule ending on line 632856\n",
      "[17:10:00] ERROR: Explicit valence for atom # 1 Cl, 4, is greater than permitted\n",
      "[17:10:00] Explicit valence for atom # 7 K, 2, is greater than permitted\n",
      "[17:10:00] ERROR: Could not sanitize molecule ending on line 744807\n",
      "[17:10:00] ERROR: Explicit valence for atom # 7 K, 2, is greater than permitted\n",
      "[17:10:01] WARNING: not removing hydrogen atom without neighbors\n",
      "[17:10:01] WARNING: not removing hydrogen atom without neighbors\n"
     ]
    },
    {
     "data": {
      "image/png": "[encoded data removed]",
      "text/html": [
       "<table><tr><td colspan=2 style=\"text-align:center\"><image src=\"data:image/png;base64,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\"></td></tr>\n",
       "<tr><th style=\"text-align:right\">DRUGBANK_ID</th><td style=\"text-align:left\">DB00006</td></tr>\n",
       "<tr><th style=\"text-align:right\">SECONDARY_ACCESSION_NUMBERS</th><td style=\"text-align:left\">BTD00076; EXPT03302; BIOD00076; DB02351</td></tr>\n",
       "<tr><th style=\"text-align:right\">COMMON_NAME</th><td style=\"text-align:left\">Bivalirudin</td></tr>\n",
       "<tr><th style=\"text-align:right\">CAS_NUMBER</th><td style=\"text-align:left\">128270-60-0</td></tr>\n",
       "<tr><th style=\"text-align:right\">UNII</th><td style=\"text-align:left\">TN9BEX005G</td></tr>\n",
       "<tr><th style=\"text-align:right\">SYNONYMS</th><td style=\"text-align:left\">Bivalirudin; Bivalirudina; Bivalirudinum</td></tr></table>"
      ],
      "text/plain": [
       "<rdkit.Chem.rdchem.Mol at 0x7f4d367a8220>"
      ]
     },
     "execution_count": 6,
     "metadata": {},
     "output_type": "execute_result"
    }
   ],
   "source": [
    "# Load molecules from Supplier (SDF file)\n",
    "suppl = Chem.SDMolSupplier('sdf_example.sdf')\n",
    "mols = []\n",
    "for mol in suppl:\n",
    "    if mol is None:\n",
    "        continue\n",
    "    mols.append(mol)\n",
    "mols[0]"
   ]
  },
  {
   "cell_type": "markdown",
   "metadata": {},
   "source": [
    "mol file로부터 mol object load"
   ]
  },
  {
   "cell_type": "code",
   "execution_count": 7,
   "metadata": {},
   "outputs": [
    {
     "data": {
      "image/png": "[encoded data removed]",
      "text/plain": [
       "<rdkit.Chem.rdchem.Mol at 0x7f4d364a8160>"
      ]
     },
     "execution_count": 7,
     "metadata": {},
     "output_type": "execute_result"
    }
   ],
   "source": [
    "mol = Chem.MolFromMolFile('mol_example.mol')\n",
    "mol"
   ]
  },
  {
   "cell_type": "markdown",
   "metadata": {},
   "source": [
    "### Writing Molecules"
   ]
  },
  {
   "cell_type": "code",
   "execution_count": 8,
   "metadata": {},
   "outputs": [
    {
     "name": "stdout",
     "output_type": "stream",
     "text": [
      "C[C@H](O)c1ccccc1\n",
      "CC(O)c1ccccc1\n"
     ]
    }
   ],
   "source": [
    "m = Chem.MolFromSmiles('C[C@H](O)c1ccccc1')\n",
    "print(Chem.MolToSmiles(m))\n",
    "print(Chem.MolToSmiles(m,isomericSmiles=False)) # chirality를 제거하는 option"
   ]
  },
  {
   "cell_type": "markdown",
   "metadata": {},
   "source": [
    "Chem.MolToSmiles의 output은 canonical SMILES 이므로, 같은 molecule이라면, mol object를 만들 때 SMILES가 달랐더라도 동일한 SMILES가 나옴.  \n",
    "cf) http://openbabel.org/docs/current/FileFormats/Canonical_SMILES_format.html"
   ]
  },
  {
   "cell_type": "code",
   "execution_count": 9,
   "metadata": {},
   "outputs": [
    {
     "name": "stdout",
     "output_type": "stream",
     "text": [
      "c1ccncc1\n",
      "c1ccncc1\n",
      "c1ccncc1\n"
     ]
    }
   ],
   "source": [
    "print(Chem.MolToSmiles(Chem.MolFromSmiles('C1=CC=CN=C1')))\n",
    "print(Chem.MolToSmiles(Chem.MolFromSmiles('c1cccnc1')))\n",
    "print(Chem.MolToSmiles(Chem.MolFromSmiles('n1ccccc1')))"
   ]
  },
  {
   "cell_type": "markdown",
   "metadata": {},
   "source": [
    "Kekulization: 1중 결합과 2중 결합의 사이 정도의 성격을 지닌 aromatic bond들을 임의로 explicit하게 1중 결합, 2중 결합으로 분리하는 것  \n",
    "cf) https://chemistry.stackexchange.com/questions/116498/what-is-kekulization-in-rdkit"
   ]
  },
  {
   "cell_type": "code",
   "execution_count": 10,
   "metadata": {},
   "outputs": [
    {
     "data": {
      "text/plain": [
       "'C[C@H](O)C1=CC=CC=C1'"
      ]
     },
     "execution_count": 10,
     "metadata": {},
     "output_type": "execute_result"
    }
   ],
   "source": [
    "Chem.Kekulize(m)\n",
    "Chem.MolToSmiles(m, kekuleSmiles=True) # kekulize 한 뒤에는 canonical 하지 않다."
   ]
  },
  {
   "cell_type": "markdown",
   "metadata": {},
   "source": [
    "### 3D conformer generation -> 뒤에서 다시 자세히 다룸."
   ]
  },
  {
   "cell_type": "code",
   "execution_count": 11,
   "metadata": {},
   "outputs": [
    {
     "name": "stdout",
     "output_type": "stream",
     "text": [
      "\n",
      "     RDKit          3D\n",
      "\n",
      " 19 19  0  0  0  0  0  0  0  0999 V2000\n",
      "   -2.3319    0.7908   -0.0153 C   0  0  0  0  0  0  0  0  0  0  0  0\n",
      "   -1.5562   -0.4948   -0.3209 C   0  0  2  0  0  0  0  0  0  0  0  0\n",
      "   -1.9845   -1.4216    0.6483 O   0  0  0  0  0  0  0  0  0  0  0  0\n",
      "   -0.0899   -0.2431   -0.2031 C   0  0  0  0  0  0  0  0  0  0  0  0\n",
      "    0.7767   -1.3024   -0.0395 C   0  0  0  0  0  0  0  0  0  0  0  0\n",
      "    2.1477   -1.0931    0.0727 C   0  0  0  0  0  0  0  0  0  0  0  0\n",
      "    2.6631    0.1845    0.0216 C   0  0  0  0  0  0  0  0  0  0  0  0\n",
      "    1.8070    1.2725   -0.1433 C   0  0  0  0  0  0  0  0  0  0  0  0\n",
      "    0.4575    1.0178   -0.2499 C   0  0  0  0  0  0  0  0  0  0  0  0\n",
      "   -1.8619    1.2367    0.8852 H   0  0  0  0  0  0  0  0  0  0  0  0\n",
      "   -3.3617    0.4810    0.3007 H   0  0  0  0  0  0  0  0  0  0  0  0\n",
      "   -2.3173    1.4477   -0.8842 H   0  0  0  0  0  0  0  0  0  0  0  0\n",
      "   -1.8325   -0.8888   -1.3064 H   0  0  0  0  0  0  0  0  0  0  0  0\n",
      "   -1.4831   -1.2002    1.4784 H   0  0  0  0  0  0  0  0  0  0  0  0\n",
      "    0.4008   -2.3005    0.0030 H   0  0  0  0  0  0  0  0  0  0  0  0\n",
      "    2.8306   -1.9312    0.2019 H   0  0  0  0  0  0  0  0  0  0  0  0\n",
      "    3.7381    0.3426    0.1100 H   0  0  0  0  0  0  0  0  0  0  0  0\n",
      "    2.2275    2.2590   -0.1807 H   0  0  0  0  0  0  0  0  0  0  0  0\n",
      "   -0.2301    1.8428   -0.3786 H   0  0  0  0  0  0  0  0  0  0  0  0\n",
      "  1  2  1  0\n",
      "  2  3  1  0\n",
      "  2  4  1  0\n",
      "  4  5  2  0\n",
      "  5  6  1  0\n",
      "  6  7  2  0\n",
      "  7  8  1  0\n",
      "  8  9  2  0\n",
      "  9  4  1  0\n",
      "  1 10  1  0\n",
      "  1 11  1  0\n",
      "  1 12  1  0\n",
      "  2 13  1  6\n",
      "  3 14  1  0\n",
      "  5 15  1  0\n",
      "  6 16  1  0\n",
      "  7 17  1  0\n",
      "  8 18  1  0\n",
      "  9 19  1  0\n",
      "M  END\n",
      "\n"
     ]
    }
   ],
   "source": [
    "m3 = Chem.AddHs(m) # 3D conformer generation 시에는 꼭 수소를 추가하여 계산하는 것이 더 정확한 결과를 얻을 수 있음.\n",
    "AllChem.EmbedMolecule(m3, randomSeed=42) # default method: ETKDG\n",
    "print(Chem.MolToMolBlock(m3))"
   ]
  },
  {
   "cell_type": "code",
   "execution_count": 12,
   "metadata": {},
   "outputs": [
    {
     "name": "stdout",
     "output_type": "stream",
     "text": [
      "\n",
      "     RDKit          3D\n",
      "\n",
      "  9  9  0  0  0  0  0  0  0  0999 V2000\n",
      "   -2.3319    0.7908   -0.0153 C   0  0  0  0  0  0  0  0  0  0  0  0\n",
      "   -1.5562   -0.4948   -0.3209 C   0  0  2  0  0  0  0  0  0  0  0  0\n",
      "   -1.9845   -1.4216    0.6483 O   0  0  0  0  0  0  0  0  0  0  0  0\n",
      "   -0.0899   -0.2431   -0.2031 C   0  0  0  0  0  0  0  0  0  0  0  0\n",
      "    0.7767   -1.3024   -0.0395 C   0  0  0  0  0  0  0  0  0  0  0  0\n",
      "    2.1477   -1.0931    0.0727 C   0  0  0  0  0  0  0  0  0  0  0  0\n",
      "    2.6631    0.1845    0.0216 C   0  0  0  0  0  0  0  0  0  0  0  0\n",
      "    1.8070    1.2725   -0.1433 C   0  0  0  0  0  0  0  0  0  0  0  0\n",
      "    0.4575    1.0178   -0.2499 C   0  0  0  0  0  0  0  0  0  0  0  0\n",
      "  2  1  1  1\n",
      "  2  3  1  0\n",
      "  2  4  1  0\n",
      "  4  5  2  0\n",
      "  5  6  1  0\n",
      "  6  7  2  0\n",
      "  7  8  1  0\n",
      "  8  9  2  0\n",
      "  9  4  1  0\n",
      "M  END\n",
      "\n"
     ]
    }
   ],
   "source": [
    "# conformer 만든 이후에 H가 필요 없다면, remove 하고 사용\n",
    "m3 = Chem.RemoveHs(m3)\n",
    "print(Chem.MolToMolBlock(m3))"
   ]
  },
  {
   "cell_type": "markdown",
   "metadata": {},
   "source": [
    "### Working with Molecules"
   ]
  },
  {
   "cell_type": "markdown",
   "metadata": {},
   "source": [
    "RDKit mol object는 atom은 각 atom 별 object로, bond는 (begin atom, end atom)의 일종의 tuple 형태로 저장함."
   ]
  },
  {
   "cell_type": "markdown",
   "metadata": {},
   "source": [
    "Loop over atoms and bonds\n",
    "- mol.GetAtoms(), mol.GetBonds()\n",
    "- atom.GetNeighbors(), atom.GetSymbol(), atom.GetAtomicNum(), atom.GetBeginAtomIdx(), atom.GetEndAtomIdx(), atom.IsInRing(), atom.IsInRingSize()\n",
    "- bond.GetBondType()"
   ]
  },
  {
   "cell_type": "code",
   "execution_count": 13,
   "metadata": {},
   "outputs": [
    {
     "name": "stdout",
     "output_type": "stream",
     "text": [
      "6\n",
      "8\n",
      "6\n"
     ]
    }
   ],
   "source": [
    "m = Chem.MolFromSmiles('C1OC1')\n",
    "for atom in m.GetAtoms(): # atom들을 iterate\n",
    "    print(atom.GetAtomicNum()) # 원자번호를 출력"
   ]
  },
  {
   "cell_type": "code",
   "execution_count": 14,
   "metadata": {},
   "outputs": [
    {
     "name": "stdout",
     "output_type": "stream",
     "text": [
      "SINGLE\n"
     ]
    }
   ],
   "source": [
    "print(m.GetBonds()[0].GetBondType()) # bond type 출력"
   ]
  },
  {
   "cell_type": "code",
   "execution_count": 15,
   "metadata": {},
   "outputs": [
    {
     "data": {
      "image/png": "[encoded data removed]",
      "text/plain": [
       "<rdkit.Chem.rdchem.Mol at 0x7f4d364a8580>"
      ]
     },
     "execution_count": 15,
     "metadata": {},
     "output_type": "execute_result"
    }
   ],
   "source": [
    "show_atom_idx(m)\n",
    "m"
   ]
  },
  {
   "cell_type": "code",
   "execution_count": 16,
   "metadata": {},
   "outputs": [
    {
     "name": "stdout",
     "output_type": "stream",
     "text": [
      "C\n",
      "6\n",
      "2\n",
      "0\n",
      "1\n",
      "SINGLE\n"
     ]
    }
   ],
   "source": [
    "# 각 atom과 bond에 대한 정보를 알 수 있다.\n",
    "print(m.GetAtomWithIdx(0).GetSymbol()) # atom symbol\n",
    "print(m.GetAtomWithIdx(0).GetAtomicNum()) # atom의 atom number\n",
    "print(m.GetAtomWithIdx(0).GetExplicitValence()) # atom의 valence\n",
    "print(m.GetBondWithIdx(0).GetBeginAtomIdx()) # bond의 begin atom의 index\n",
    "print(m.GetBondWithIdx(0).GetEndAtomIdx()) # bond의 end atom의 index\n",
    "print(m.GetBondBetweenAtoms(0, 1).GetBondType()) # 두 atom 간 bond의 bond type"
   ]
  },
  {
   "cell_type": "code",
   "execution_count": 17,
   "metadata": {},
   "outputs": [
    {
     "name": "stdout",
     "output_type": "stream",
     "text": [
      "[8, 6]\n",
      "['O', 'C']\n",
      "2\n"
     ]
    }
   ],
   "source": [
    "# Atom은 neighbor들을 기억하고 있다.\n",
    "atom = m.GetAtomWithIdx(0) # 0번째 atom\n",
    "print([x.GetAtomicNum() for x in atom.GetNeighbors()]) # atom의 neighbor들의 atom number\n",
    "print([x.GetSymbol() for x in atom.GetNeighbors()]) # atom neighbor들의 symbol\n",
    "print(len(atom.GetNeighbors()[-1].GetBonds())) # atom의 neighbor 중 하나의 bond 갯수"
   ]
  },
  {
   "cell_type": "code",
   "execution_count": 18,
   "metadata": {},
   "outputs": [
    {
     "data": {
      "image/png": "[encoded data removed]",
      "text/plain": [
       "<rdkit.Chem.rdchem.Mol at 0x7f4d364a8880>"
      ]
     },
     "execution_count": 18,
     "metadata": {},
     "output_type": "execute_result"
    }
   ],
   "source": [
    "# ring 구조\n",
    "m = Chem.MolFromSmiles('OC1C2C1CC2')\n",
    "show_atom_idx(m)\n",
    "show_bond_idx(m)\n",
    "m"
   ]
  },
  {
   "cell_type": "code",
   "execution_count": 19,
   "metadata": {},
   "outputs": [
    {
     "name": "stdout",
     "output_type": "stream",
     "text": [
      "False\n",
      "True\n",
      "True\n",
      "True\n",
      "False\n",
      "True\n",
      "True\n"
     ]
    }
   ],
   "source": [
    "# atom, bond의 정보 보기\n",
    "print(m.GetAtomWithIdx(0).IsInRing()) # False\n",
    "print(m.GetAtomWithIdx(1).IsInRing()) # True\n",
    "print(m.GetAtomWithIdx(2).IsInRingSize(3)) # True\n",
    "print(m.GetAtomWithIdx(2).IsInRingSize(4)) # True\n",
    "print(m.GetAtomWithIdx(2).IsInRingSize(5)) # False\n",
    "\n",
    "print(m.GetBondWithIdx(1).IsInRingSize(3)) # True\n",
    "print(m.GetBondWithIdx(2).IsInRing()) # True"
   ]
  },
  {
   "cell_type": "code",
   "execution_count": 20,
   "metadata": {},
   "outputs": [
    {
     "name": "stdout",
     "output_type": "stream",
     "text": [
      "2\n",
      "[1, 2, 3]\n",
      "[4, 5, 2, 3]\n"
     ]
    }
   ],
   "source": [
    "# cf) SSSR (smallest set of smallest rings)\n",
    "# Symmetrized & non-symmetrized SSSR 간의 구분은 RDKit docs 참고.\n",
    "ssr = Chem.GetSymmSSSR(m) # symmetrized SSSR\n",
    "print(len(ssr))\n",
    "print(list(ssr[0]))\n",
    "print(list(ssr[1]))"
   ]
  },
  {
   "cell_type": "markdown",
   "metadata": {},
   "source": [
    "Modifying molecules\n",
    "- Chem.AddHs(), Chem.Kekulize(), Chem.SanitizeMol()\n",
    "- 기본적으로 molecule은 hydrogen atom은 atom의 valence와 neighbor들을 고려해 implicit하게만 포함되어 있다.\n",
    "- 즉, H가 explicit하게 포함되지 않은 상황에서는 H는 atom 갯수나 neighbor에 직접 포함되지 않는다.\n",
    "- H를 추가하는 것이 필요할 때는 Chem.AddHs() 함수를 사용한다."
   ]
  },
  {
   "cell_type": "code",
   "execution_count": 21,
   "metadata": {},
   "outputs": [
    {
     "name": "stdout",
     "output_type": "stream",
     "text": [
      "3\n"
     ]
    },
    {
     "data": {
      "image/png": "[encoded data removed]",
      "text/plain": [
       "<rdkit.Chem.rdchem.Mol at 0x7f4d364a8e80>"
      ]
     },
     "execution_count": 21,
     "metadata": {},
     "output_type": "execute_result"
    }
   ],
   "source": [
    "m = Chem.MolFromSmiles('CCO')\n",
    "print(m.GetNumAtoms())\n",
    "m"
   ]
  },
  {
   "cell_type": "code",
   "execution_count": 22,
   "metadata": {},
   "outputs": [
    {
     "name": "stdout",
     "output_type": "stream",
     "text": [
      "9\n"
     ]
    },
    {
     "data": {
      "image/png": "[encoded data removed]",
      "text/plain": [
       "<rdkit.Chem.rdchem.Mol at 0x7f4d364a85e0>"
      ]
     },
     "execution_count": 22,
     "metadata": {},
     "output_type": "execute_result"
    }
   ],
   "source": [
    "# 3D geometry를 생성하거나 optimize 하는 등 hydrogen이 explicit하게 필요할 경우는 AddHs function을 사용한다.\n",
    "m2 = Chem.AddHs(m)\n",
    "print(m2.GetNumAtoms())\n",
    "m2"
   ]
  },
  {
   "cell_type": "code",
   "execution_count": 23,
   "metadata": {},
   "outputs": [
    {
     "name": "stdout",
     "output_type": "stream",
     "text": [
      "AROMATIC\n",
      "AROMATIC\n"
     ]
    },
    {
     "data": {
      "image/png": "[encoded data removed]",
      "text/plain": [
       "<rdkit.Chem.rdchem.Mol at 0x7f4d364b01c0>"
      ]
     },
     "execution_count": 23,
     "metadata": {},
     "output_type": "execute_result"
    }
   ],
   "source": [
    "# RDKit molecule은 aromatic bond type에 해당하는 경우, bond type이 AROMATIC으로 설정된다.\n",
    "m = Chem.MolFromSmiles('c1ccccc1')\n",
    "show_atom_idx(m)\n",
    "show_bond_idx(m)\n",
    "print(m.GetBondWithIdx(0).GetBondType())\n",
    "print(m.GetBondWithIdx(1).GetBondType())\n",
    "m"
   ]
  },
  {
   "cell_type": "code",
   "execution_count": 24,
   "metadata": {},
   "outputs": [
    {
     "name": "stdout",
     "output_type": "stream",
     "text": [
      "DOUBLE\n",
      "SINGLE\n",
      "True\n",
      "False\n",
      "AROMATIC\n",
      "True\n"
     ]
    }
   ],
   "source": [
    "# 이를 SINGLE, DOUBLE로 구분하려면 Chem.Kekulize() function을 사용한다. (자주 사용하지는 않을 것이다.)\n",
    "Chem.Kekulize(m)\n",
    "print(m.GetBondWithIdx(0).GetBondType())\n",
    "print(m.GetBondWithIdx(1).GetBondType())\n",
    "# 이렇게 하더라도, default로 IsAromatic attribute은 True 이다.\n",
    "print(m.GetBondWithIdx(1).GetIsAromatic())\n",
    "# IsAromatic까지 False로 하고 싶으면, Kekulize에 argument를 입력해준다.\n",
    "Chem.Kekulize(m, clearAromaticFlags=True)\n",
    "print(m.GetBondWithIdx(0).GetIsAromatic())\n",
    "# 다시 restore 하기 위해서는 Chem.SanitizeMol() function을 사용한다.\n",
    "Chem.SanitizeMol(m)\n",
    "print(m.GetBondWithIdx(0).GetBondType())\n",
    "print(m.GetBondWithIdx(0).GetIsAromatic())"
   ]
  },
  {
   "cell_type": "markdown",
   "metadata": {},
   "source": [
    "Working with 2D molecules: Generating depictions\n",
    "- AllChem.Compute2DCoords(): 2D graph를 그려주는 library. 가장 가시성이 좋은 형태로 그린다."
   ]
  },
  {
   "cell_type": "code",
   "execution_count": 25,
   "metadata": {},
   "outputs": [
    {
     "data": {
      "image/png": "[encoded data removed]",
      "text/plain": [
       "<rdkit.Chem.rdchem.Mol at 0x7f4d364b0340>"
      ]
     },
     "execution_count": 25,
     "metadata": {},
     "output_type": "execute_result"
    }
   ],
   "source": [
    "m = Chem.MolFromSmiles('c1nccc2n1ccc2')\n",
    "AllChem.Compute2DCoords(m) # 가장 가시성이 좋은 형태로 그려준다.\n",
    "m"
   ]
  },
  {
   "cell_type": "code",
   "execution_count": 26,
   "metadata": {},
   "outputs": [],
   "source": [
    "# 만약 어떤 template을 공유하는 분자들을 align하여 그리고 싶다면, 아래 코드 사용\n",
    "template = Chem.MolFromSmiles('c1nccc2n1ccc2')\n",
    "AllChem.Compute2DCoords(template)\n",
    "ms = [Chem.MolFromSmiles(smi) for smi in ('OCCc1ccn2cnccc12','C1CC1Oc1cc2ccncn2c1','CNC(=O)c1nccc2cccn12')]\n",
    "for m in ms:\n",
    "    _ = AllChem.GenerateDepictionMatching2DStructure(m,template)"
   ]
  },
  {
   "cell_type": "code",
   "execution_count": 27,
   "metadata": {},
   "outputs": [
    {
     "data": {
      "image/png": "[encoded data removed]",
      "text/plain": [
       "<rdkit.Chem.rdchem.Mol at 0x7f4d364b04c0>"
      ]
     },
     "execution_count": 27,
     "metadata": {},
     "output_type": "execute_result"
    }
   ],
   "source": [
    "ms[0]"
   ]
  },
  {
   "cell_type": "code",
   "execution_count": 28,
   "metadata": {},
   "outputs": [
    {
     "data": {
      "image/png": "[encoded data removed]",
      "text/plain": [
       "<rdkit.Chem.rdchem.Mol at 0x7f4d364b0940>"
      ]
     },
     "execution_count": 28,
     "metadata": {},
     "output_type": "execute_result"
    }
   ],
   "source": [
    "ms[1]"
   ]
  },
  {
   "cell_type": "code",
   "execution_count": 29,
   "metadata": {},
   "outputs": [
    {
     "data": {
      "image/png": "[encoded data removed]",
      "text/plain": [
       "<rdkit.Chem.rdchem.Mol at 0x7f4d364a8b20>"
      ]
     },
     "execution_count": 29,
     "metadata": {},
     "output_type": "execute_result"
    }
   ],
   "source": [
    "ms[2]"
   ]
  },
  {
   "cell_type": "markdown",
   "metadata": {},
   "source": [
    "Working with 3D molecules\n",
    "\n",
    "> RDkit은 두 가지 방법으로 conformer를 만들 수 있다.\n",
    "> > - Distance geometry method  \n",
    "    1. Connection table과 몇 가지 규칙으로 molecule의 distance bounds matrix 계산  \n",
    "    2. Bounds matrix가 triangle-bounds smoothing algorithm으로 smoothing 됨.  \n",
    "    3. Bounds matrix를 만족하는 random distance matrix 만들어짐.  \n",
    "    4. Distance matrix가 3D dimension에 embedding 됨.  \n",
    "    5. 각 coordinate가 force field와 bounds matrix에 의해 clean-up 됨.  \n",
    "    \\* Distance geometry method로 구해진 conformer는 꽤 ugly 하므로 기왕이면 꼭 force field로 clean up 되어야 한다.  \n",
    "    \\* RDKit의 force field clean up은 UFF, MMFF94 등을 지원한다.  \n",
    "        - UFF: Universal Force Field (1992), AllChem.UFFOptimizeMolecule()\n",
    "        - MMFF: Merck Molecular Force Field (1996), AllChem.MMFFOptimizeMolecule()\n",
    "> > - ETKDG method (by Riniker and Landrum, 2015)  \n",
    "    - AllChem.EmbedMolecule()의 default method  \n",
    "    Torsional angle preference를 사용해 distance geometry를 수정함.\n",
    "    이 방법을 사용하면 force field clean up이 필요 없을 정도로 괜찮은 수준의 conformer를 얻을 수 있음. 물론 conformer를 얻은 뒤 clean up을 수행할 수 없는 것은 아니고, 꼭 할 필요는 없는 정도.\n",
    "\n",
    "\\* 참고로 MMFF는 자체적인 aromaticity model을 사용하므로, MMFF 관련 methods를 사용한 뒤에는 molecule의 aromaticity flag가 달라져 있을 것이다.\n",
    "\n",
    "\\* RDKit에서 3D conformer를 만들 때는 Chem.AddHs() 로 수소를 추가한 뒤에 하는 것이 성능에 도움이 된다. Conformer generation 이후에 수소가 필요가 없다면 Chem.RemoveHs() 로 다시 없앨 수 있다.\n",
    "\n",
    "\\* AllChem.EmbedMolecule(), AllChem.UFFOptimizeMolecule(), AllChem.MMFFOptimizeMolecule() 등은 return으로 0, 1, -1 을 내놓는다.\n",
    "- 0: converged (success)\n",
    "- 1: need more iteration (not converged)\n",
    "- -1: failure\n",
    "\n",
    "\n",
    "더 자세한 내용은 RDKit Book과 RDKit Blog를 참고.\n",
    "- https://greglandrum.github.io/rdkit-blog/conformers/exploration/2021/01/31/looking-at-random-coordinate-embedding.html"
   ]
  },
  {
   "cell_type": "code",
   "execution_count": 49,
   "metadata": {},
   "outputs": [],
   "source": [
    "m2 = Chem.AddHs(m)\n",
    "# Initial embedding 생성\n",
    "status = AllChem.EmbedMolecule(m2) # ETKDG. Argument로 maxAttempts, randomSeed 등이 있다.\n",
    "# Optimize (clean up)\n",
    "status = AllChem.MMFFOptimizeMolecule(m2) # MMFF94. Argument로 maxIters 등이 있다.\n",
    "status = AllChem.UFFOptimizeMolecule(m2) # UFF. Argument로 maxIters 등이 있다."
   ]
  },
  {
   "cell_type": "code",
   "execution_count": 50,
   "metadata": {},
   "outputs": [
    {
     "data": {
      "text/plain": [
       "0"
      ]
     },
     "execution_count": 50,
     "metadata": {},
     "output_type": "execute_result"
    }
   ],
   "source": [
    "status"
   ]
  },
  {
   "cell_type": "markdown",
   "metadata": {},
   "source": [
    "RDkit에서는 EmbedMultipleConfs function의 _numConfs_ option을 통해 multiple conformer 를 만들 수 있는데, 이는 여러 random start point에서 시작하는 것이다."
   ]
  },
  {
   "cell_type": "code",
   "execution_count": 70,
   "metadata": {},
   "outputs": [],
   "source": [
    "mol = Chem.MolFromSmiles('C1CCC1OC')\n",
    "AllChem.Compute2DCoords(mol)\n",
    "conf = mol.GetConformer()"
   ]
  },
  {
   "cell_type": "code",
   "execution_count": 30,
   "metadata": {},
   "outputs": [
    {
     "name": "stdout",
     "output_type": "stream",
     "text": [
      "10\n",
      "9\n",
      "1.1827110802104737\n",
      "[(0, 11.677582321120976), (0, 10.728830581838565), (0, 10.7288305787741), (0, 10.728830580064784), (0, 10.728830583023319), (0, 10.72883058213529), (0, 11.677582320637976), (0, 10.728830577569822), (0, 10.728830577522134), (0, 10.728830577947033)]\n"
     ]
    }
   ],
   "source": [
    "m = Chem.MolFromSmiles('C1CCC1OC')\n",
    "m2 = Chem.AddHs(m)\n",
    "# run ETKDG 10 times\n",
    "cids = AllChem.EmbedMultipleConfs(m2, numConfs=10)\n",
    "print(len(cids))\n",
    "\n",
    "# 첫 번째 conformer와 다른 conformer 간의 RMS value 차이를 기록하는 list\n",
    "rmslist = []\n",
    "AllChem.AlignMolConformers(m2, RMSlist=rmslist) # molecule끼리 align\n",
    "print(len(rmslist))\n",
    "\n",
    "# 특정 두 conformer 끼리의 RMS value를 계산할 수도 있음.\n",
    "rms = AllChem.GetConformerRMS(m2, 1, 9, prealigned=True) # 기본적으로 align 되어 있음\n",
    "print(rms)\n",
    "\n",
    "# 여러 개의 conformation에 대해 MMFF optimization을 수행하고 싶을 때는 MMFFOptimizeMoleculeConfs function을 사용.\n",
    "res = AllChem.MMFFOptimizeMoleculeConfs(m2)\n",
    "print(res) # list of tuples of (not_converged, engergy). 0이면 converge 된 것."
   ]
  },
  {
   "cell_type": "code",
   "execution_count": null,
   "metadata": {},
   "outputs": [],
   "source": [
    "# Conformation 계산 및 atom position 구하는 함수 (https://doi.org/10.1038/s42256-021-00438-4의 함수를 개선)\n",
    "def get_atom_poses(mol, conf):\n",
    "    atom_poses = []\n",
    "    for i, atom in enumerate(mol.GetAtoms()):\n",
    "        if atom.GetAtomicNum() == 0:\n",
    "            return [[0.0, 0.0, 0.0]] * len(mol.GetAtoms())\n",
    "        pos = conf.GetAtomPosition(i)\n",
    "        atom_poses.append([pos.x, pos.y, pos.z])\n",
    "    return atom_poses\n",
    "\n",
    "def get_MMFF_atom_poses(mol, numConfs=None, return_energy=False, numThreads=None):\n",
    "    '''The atoms of mol will be changed in some cases.'''\n",
    "    try:\n",
    "        ps = AllChem.ETKDGv3()\n",
    "        ps.numThreads = 4\n",
    "        # ps.useRandomCoords = True # default는 False. True로 하는 것이 속도는 조금 느린데 더 robust하다는 주장이 있음.\n",
    "        new_mol = Chem.AddHs(mol)\n",
    "        res = AllChem.EmbedMultipleConfs(new_mol, numConfs=numConfs) # ETKDG\n",
    "        res = AllChem.MMFFOptimizeMoleculeConfs(new_mol) # MMFF\n",
    "        # res = AllChem.UFFOptimizeMoleculeConfs(new_mol) # UFF\n",
    "        new_mol = Chem.RemoveHs(new_mol)\n",
    "        index = np.argmin([x[1] for x in res]) # energy가 가장 낮은 conformer의 index\n",
    "        energy = res[index][1] # 가장 낮은 energy\n",
    "        conf = new_mol.GetConformer(id=int(index)) # 가장 낮은 energy의 conformer\n",
    "    except:\n",
    "        new_mol = mol\n",
    "        AllChem.Compute2DCoords(new_mol)\n",
    "        energy = 0\n",
    "        conf = new_mol.GetConformer()\n",
    "\n",
    "    atom_poses = get_atom_poses(new_mol, conf)\n",
    "    if return_energy:\n",
    "        return new_mol, atom_poses, energy\n",
    "    else:\n",
    "        return new_mol, atom_poses"
   ]
  },
  {
   "cell_type": "markdown",
   "metadata": {},
   "source": [
    "cf) Multi-threading\n",
    "_AllChem.EmbedMultipleConfs_ 와 _AllChem.MMFFOptimizeMoleculeConfs_ 는 default로 single thread.\n",
    "Multi thread로 사용하려면 _numThreads_ argument를 사용. _numThreads=0_ 이면 maximum thread 사용."
   ]
  },
  {
   "cell_type": "markdown",
   "metadata": {},
   "source": [
    "Preserving Molecules\n",
    "\n",
    "RDKit mol object는 Python의 pickle로 저장하고, 불러올 수 있다.\n",
    "RDKit pickle format은 굉장히 압축되어 있고 효율적이어서, Mol file(SDF)이나 SMILES string 으로부터 불러오는 것보다 pickled object를 불러오는 것이 훨씬 빠르다."
   ]
  },
  {
   "cell_type": "code",
   "execution_count": 30,
   "metadata": {},
   "outputs": [
    {
     "data": {
      "text/plain": [
       "'c1ccncc1'"
      ]
     },
     "execution_count": 30,
     "metadata": {},
     "output_type": "execute_result"
    }
   ],
   "source": [
    "m = Chem.MolFromSmiles('c1ccncc1')\n",
    "import pickle\n",
    "pkl = pickle.dumps(m)\n",
    "m2 = pickle.loads(pkl)\n",
    "Chem.MolToSmiles(m2)"
   ]
  },
  {
   "cell_type": "markdown",
   "metadata": {},
   "source": [
    "### Drawing Molecules - To do\n",
    "\n",
    "RDKit의 rdkit.Chem.Draw package를 사용하여 molecule의 이미지를 만들 수 있다."
   ]
  },
  {
   "cell_type": "markdown",
   "metadata": {},
   "source": [
    "### Substructure Searching\n",
    "\n",
    "Molecule의 substructure matching은 query할 pattern을 SMARTS 형태로 사용하는 것이 일반적이다.\n",
    "Query pattern을 SMILES 로도 검색할 수 있으나, SMARTS와 SMILES는 같은 string 이더라도 다른 것을 의미하는 경우가 많으므로 주의할 필요가 있다.\n",
    "\n",
    "_HasSubstructMatch_ 는 Boolean을 return 한다.\n",
    "_GetSubstructMatch_ 는 겹치는 atom의 index를 return 하고, 대상 molecule에 있는 해당 pattern 부분을 색칠해준다."
   ]
  },
  {
   "cell_type": "code",
   "execution_count": 31,
   "metadata": {},
   "outputs": [],
   "source": [
    "m = Chem.MolFromSmiles('c1ccccc1O')\n",
    "patt = Chem.MolFromSmarts('ccO') # SMARTS로 matching"
   ]
  },
  {
   "cell_type": "code",
   "execution_count": 32,
   "metadata": {},
   "outputs": [
    {
     "data": {
      "image/png": "[encoded data removed]",
      "text/plain": [
       "<rdkit.Chem.rdchem.Mol at 0x7f34b2a1c3a0>"
      ]
     },
     "execution_count": 32,
     "metadata": {},
     "output_type": "execute_result"
    }
   ],
   "source": [
    "show_atom_idx(m)\n",
    "m"
   ]
  },
  {
   "cell_type": "code",
   "execution_count": 33,
   "metadata": {},
   "outputs": [
    {
     "name": "stdout",
     "output_type": "stream",
     "text": [
      "True\n",
      "(0, 5, 6)\n"
     ]
    },
    {
     "data": {
      "image/png": "[encoded data removed]",
      "text/plain": [
       "<rdkit.Chem.rdchem.Mol at 0x7f34b2a1c3a0>"
      ]
     },
     "execution_count": 33,
     "metadata": {},
     "output_type": "execute_result"
    }
   ],
   "source": [
    "print(m.HasSubstructMatch(patt))\n",
    "print(m.GetSubstructMatch(patt))\n",
    "m"
   ]
  },
  {
   "cell_type": "code",
   "execution_count": 34,
   "metadata": {},
   "outputs": [
    {
     "name": "stdout",
     "output_type": "stream",
     "text": [
      "((0, 5, 6), (4, 5, 6))\n"
     ]
    },
    {
     "data": {
      "image/png": "[encoded data removed]",
      "text/plain": [
       "<rdkit.Chem.rdchem.Mol at 0x7f34b2a1c3a0>"
      ]
     },
     "execution_count": 34,
     "metadata": {},
     "output_type": "execute_result"
    }
   ],
   "source": [
    "print(m.GetSubstructMatches(patt)) # 2개 이상의 pattern일 경우\n",
    "m"
   ]
  },
  {
   "cell_type": "markdown",
   "metadata": {},
   "source": [
    "SMILES와 SMARTS는 다르다!"
   ]
  },
  {
   "cell_type": "code",
   "execution_count": 35,
   "metadata": {},
   "outputs": [
    {
     "name": "stdout",
     "output_type": "stream",
     "text": [
      "((5, 6, 7),)\n"
     ]
    },
    {
     "data": {
      "image/png": "[encoded data removed]",
      "text/plain": [
       "<rdkit.Chem.rdchem.Mol at 0x7f34b2a1c460>"
      ]
     },
     "execution_count": 35,
     "metadata": {},
     "output_type": "execute_result"
    }
   ],
   "source": [
    "# SMILES로 matching\n",
    "m = Chem.MolFromSmiles('C1=CC=CC=C1OC')\n",
    "print(m.GetSubstructMatches(Chem.MolFromSmiles('COC')))\n",
    "m"
   ]
  },
  {
   "cell_type": "code",
   "execution_count": 36,
   "metadata": {},
   "outputs": [
    {
     "name": "stdout",
     "output_type": "stream",
     "text": [
      "((7, 6, 5),)\n"
     ]
    },
    {
     "data": {
      "image/png": "[encoded data removed]",
      "text/plain": [
       "<rdkit.Chem.rdchem.Mol at 0x7f34b2a1c700>"
      ]
     },
     "execution_count": 36,
     "metadata": {},
     "output_type": "execute_result"
    }
   ],
   "source": [
    "m = Chem.MolFromSmiles('C1=CC=CC=C1OC')\n",
    "print(m.GetSubstructMatches(Chem.MolFromSmarts('COc')))\n",
    "m"
   ]
  },
  {
   "cell_type": "markdown",
   "metadata": {},
   "source": [
    "Stereochemistry in substructure matches\n",
    "\n",
    "Default: substructure search에서 stereochemistry 정보는 사용되지 않는다.\n",
    "_useChirality_ argument를 사용하면 된다."
   ]
  },
  {
   "cell_type": "code",
   "execution_count": 37,
   "metadata": {},
   "outputs": [
    {
     "data": {
      "image/png": "[encoded data removed]",
      "text/plain": [
       "<rdkit.Chem.rdchem.Mol at 0x7f34b2a1cbe0>"
      ]
     },
     "execution_count": 37,
     "metadata": {},
     "output_type": "execute_result"
    }
   ],
   "source": [
    "m = Chem.MolFromSmiles('CC[C@H](F)Cl')\n",
    "m"
   ]
  },
  {
   "cell_type": "code",
   "execution_count": 38,
   "metadata": {},
   "outputs": [
    {
     "name": "stdout",
     "output_type": "stream",
     "text": [
      "True\n",
      "True\n",
      "True\n"
     ]
    }
   ],
   "source": [
    "# default: Stereo chemistry 사용 X\n",
    "print(m.HasSubstructMatch(Chem.MolFromSmiles('C[C@H](F)Cl')))\n",
    "print(m.HasSubstructMatch(Chem.MolFromSmiles('C[C@@H](F)Cl')))\n",
    "print(m.HasSubstructMatch(Chem.MolFromSmiles('CC(F)Cl')))"
   ]
  },
  {
   "cell_type": "code",
   "execution_count": 39,
   "metadata": {},
   "outputs": [
    {
     "name": "stdout",
     "output_type": "stream",
     "text": [
      "True\n",
      "False\n",
      "True\n",
      "False\n"
     ]
    }
   ],
   "source": [
    "# useChirality\n",
    "print(m.HasSubstructMatch(Chem.MolFromSmiles('C[C@H](F)Cl'), useChirality=True))\n",
    "print(m.HasSubstructMatch(Chem.MolFromSmiles('C[C@@H](F)Cl'), useChirality=True))\n",
    "# chiral molecule <- non-chiral query: match 된다.\n",
    "print(m.HasSubstructMatch(Chem.MolFromSmiles('CC(F)Cl'), useChirality=True)) # non-chiral query는 match 된다!\n",
    "# non-chiral molecule <- chiral query: match 안 된다.\n",
    "m2 = Chem.MolFromSmiles('CCC(F)Cl')\n",
    "print(m2.HasSubstructMatch(Chem.MolFromSmiles('C[C@H](F)Cl'),useChirality=True))"
   ]
  },
  {
   "cell_type": "markdown",
   "metadata": {},
   "source": [
    "Atom Map indices in SMARTS\n",
    "\n",
    "SMARTS pattern의 atom에 index를 붙일 수 있는데, 보통 chemical reaction을 SMARTS로 표현할 때 많이 사용한다.\n",
    "SMARTS 안에 있는 atom들에 index가 parse 되면, _GetSubstructMatches_ 로 substructure를 match 할 때 index mapping을 할 수 있다."
   ]
  },
  {
   "cell_type": "code",
   "execution_count": 10,
   "metadata": {},
   "outputs": [
    {
     "name": "stdout",
     "output_type": "stream",
     "text": [
      "[0, 1, 3, 4]\n"
     ]
    }
   ],
   "source": [
    "qmol = Chem.MolFromSmarts('[cH0:1][c:2]([cH0])!@[CX3!r:3]=[NX2!r:4]')\n",
    "ind_map = {}\n",
    "for atom in qmol.GetAtoms():\n",
    "    map_num = atom.GetAtomMapNum()\n",
    "    if map_num:\n",
    "        ind_map[map_num-1] = atom.GetIdx()\n",
    "map_list = [ind_map[x] for x in sorted(ind_map)]\n",
    "print(map_list)"
   ]
  },
  {
   "cell_type": "code",
   "execution_count": 20,
   "metadata": {},
   "outputs": [
    {
     "name": "stdout",
     "output_type": "stream",
     "text": [
      "[1, 7, 8, 10]\n"
     ]
    }
   ],
   "source": [
    "mol = Chem.MolFromSmiles('Cc1cccc(C)c1C(C)=NC')\n",
    "for match in mol.GetSubstructMatches(qmol):\n",
    "    mas = [match[x] for x in map_list]\n",
    "    print(mas) # molecule object에서 query와 match된 atom의 index를 출력"
   ]
  },
  {
   "cell_type": "code",
   "execution_count": 22,
   "metadata": {},
   "outputs": [
    {
     "name": "stdout",
     "output_type": "stream",
     "text": [
      "C\n",
      "C\n",
      "C\n",
      "N\n"
     ]
    },
    {
     "data": {
      "image/png": "[encoded data removed]",
      "text/plain": [
       "<rdkit.Chem.rdchem.Mol at 0x7f7baed56940>"
      ]
     },
     "execution_count": 22,
     "metadata": {},
     "output_type": "execute_result"
    }
   ],
   "source": [
    "print(mol.GetAtomWithIdx(1).GetSymbol())\n",
    "print(mol.GetAtomWithIdx(7).GetSymbol())\n",
    "print(mol.GetAtomWithIdx(8).GetSymbol())\n",
    "print(mol.GetAtomWithIdx(10).GetSymbol())\n",
    "mol"
   ]
  },
  {
   "cell_type": "markdown",
   "metadata": {},
   "source": [
    "Advanced substructure matching - To do\n",
    "\n",
    "RDKit은 특정 substructure match를 더 specific하게 할 수 있는 기능을 제공한다."
   ]
  },
  {
   "cell_type": "markdown",
   "metadata": {},
   "source": [
    "----------------------------------------------------------------"
   ]
  },
  {
   "cell_type": "markdown",
   "metadata": {},
   "source": [
    "### Chemical Transformations\n",
    "\n",
    "RDKit에서는 간단하게 molecule의 일부분을 바꿀 수 있는 기능을 제공한다.\n",
    "더 복잡한 transformation은 Chemical Reactions 부분을 참고하는 것이 좋다."
   ]
  },
  {
   "cell_type": "markdown",
   "metadata": {},
   "source": [
    "Substructure-based transformation"
   ]
  },
  {
   "cell_type": "code",
   "execution_count": 26,
   "metadata": {},
   "outputs": [
    {
     "data": {
      "text/plain": [
       "'C'"
      ]
     },
     "execution_count": 26,
     "metadata": {},
     "output_type": "execute_result"
    }
   ],
   "source": [
    "# Substructure 삭제 (delete)\n",
    "m = Chem.MolFromSmiles('CC(=O)O')\n",
    "patt = Chem.MolFromSmarts('C(=O)[OH]')\n",
    "rm = AllChem.DeleteSubstructs(m, patt)\n",
    "Chem.MolToSmiles(rm)"
   ]
  },
  {
   "cell_type": "code",
   "execution_count": 28,
   "metadata": {},
   "outputs": [
    {
     "data": {
      "text/plain": [
       "'COC(C)=O'"
      ]
     },
     "execution_count": 28,
     "metadata": {},
     "output_type": "execute_result"
    }
   ],
   "source": [
    "# Substructure 교체 (replace)\n",
    "repl = Chem.MolFromSmiles('OC')\n",
    "patt = Chem.MolFromSmarts('[$(NC(=O))]')\n",
    "m = Chem.MolFromSmiles('CC(=O)N')\n",
    "rms = AllChem.ReplaceSubstructs(m, patt, repl) # mol object m에서 patt를 repl로 교체\n",
    "Chem.MolToSmiles(rms[0])"
   ]
  },
  {
   "cell_type": "code",
   "execution_count": 30,
   "metadata": {},
   "outputs": [
    {
     "data": {
      "image/png": "[encoded data removed]",
      "text/plain": [
       "<rdkit.Chem.rdchem.Mol at 0x7f7baed71fa0>"
      ]
     },
     "execution_count": 30,
     "metadata": {},
     "output_type": "execute_result"
    }
   ],
   "source": [
    "m"
   ]
  },
  {
   "cell_type": "code",
   "execution_count": 31,
   "metadata": {},
   "outputs": [
    {
     "data": {
      "image/png": "[encoded data removed]",
      "text/plain": [
       "<rdkit.Chem.rdchem.Mol at 0x7f7baed662e0>"
      ]
     },
     "execution_count": 31,
     "metadata": {},
     "output_type": "execute_result"
    }
   ],
   "source": [
    "Chem.MolFromSmiles('COC(C)=O')"
   ]
  },
  {
   "cell_type": "code",
   "execution_count": null,
   "metadata": {},
   "outputs": [],
   "source": []
  }
 ],
 "metadata": {
  "kernelspec": {
   "display_name": "aidd",
   "language": "python",
   "name": "aidd"
  },
  "language_info": {
   "codemirror_mode": {
    "name": "ipython",
    "version": 3
   },
   "file_extension": ".py",
   "mimetype": "text/x-python",
   "name": "python",
   "nbconvert_exporter": "python",
   "pygments_lexer": "ipython3",
   "version": "3.8.13"
  },
  "vscode": {
   "interpreter": {
    "hash": "e227c0bd2d5950a59e33e5abbabd7d4ec83cf9ddf6ae0e499e1468ef19a6f5a0"
   }
  }
 },
 "nbformat": 4,
 "nbformat_minor": 4
}
